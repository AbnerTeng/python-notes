{
 "cells": [
  {
   "cell_type": "markdown",
   "metadata": {},
   "source": [
    "Class and definition"
   ]
  },
  {
   "cell_type": "code",
   "execution_count": 14,
   "metadata": {},
   "outputs": [
    {
     "name": "stdout",
     "output_type": "stream",
     "text": [
      "700\n"
     ]
    }
   ],
   "source": [
    "class account:\n",
    "    def __init__(self, number, name):\n",
    "        self.number = number\n",
    "        self.name = name\n",
    "        self.balance = 0\n",
    "    def deposit(self, amount):\n",
    "        if amount <= 0 :\n",
    "            raise ValueError(\"must be positive\")\n",
    "        self.balance+=amount\n",
    "    def withdraw(self, amount):\n",
    "        if amount <= self.balance:\n",
    "            self.balance-=amount\n",
    "        else:\n",
    "            raise ValueError(\"not enough\")\n",
    "acct1 = account('123-456', 'Justin')\n",
    "acct1.deposit(1000)\n",
    "acct1.withdraw(300)\n",
    "print(acct1.balance)\n"
   ]
  },
  {
   "cell_type": "code",
   "execution_count": 16,
   "metadata": {},
   "outputs": [
    {
     "data": {
      "text/plain": [
       "[0.5714025946899135,\n",
       " 0.4288890546751146,\n",
       " 0.5780913011344704,\n",
       " 0.20609823213950174]"
      ]
     },
     "execution_count": 16,
     "metadata": {},
     "output_type": "execute_result"
    }
   ],
   "source": [
    "import random\n",
    "random.seed(10)\n",
    "\n",
    "four_unif_randoms = [random.random() for _ in range(4)]\n",
    "four_unif_randoms\n"
   ]
  },
  {
   "cell_type": "markdown",
   "metadata": {},
   "source": [
    "Numpy"
   ]
  },
  {
   "cell_type": "code",
   "execution_count": 4,
   "metadata": {},
   "outputs": [
    {
     "name": "stdout",
     "output_type": "stream",
     "text": [
      "[[ 0  1  2  3  4]\n",
      " [ 5  6  7  8  9]\n",
      " [10 11 12 13 14]\n",
      " [15 16 17 18 19]]\n"
     ]
    },
    {
     "data": {
      "text/plain": [
       "dtype('int64')"
      ]
     },
     "execution_count": 4,
     "metadata": {},
     "output_type": "execute_result"
    }
   ],
   "source": [
    "import numpy as np\n",
    "a = np.arange(20)\n",
    "a = a.reshape(4,5)\n",
    "print(a)\n",
    "a.ndim\n",
    "a.shape\n",
    "a.size\n",
    "a.dtype"
   ]
  },
  {
   "cell_type": "code",
   "execution_count": 6,
   "metadata": {},
   "outputs": [
    {
     "data": {
      "text/plain": [
       "array([[ 1,  2,  3,  4,  5],\n",
       "       [ 6,  7,  8,  9, 10]])"
      ]
     },
     "execution_count": 6,
     "metadata": {},
     "output_type": "execute_result"
    }
   ],
   "source": [
    "raw = [1,2,3,4,5]\n",
    "a = np.array(raw)\n",
    "a\n",
    "new_raw = ([1,2,3,4,5],[6,7,8,9,10])\n",
    "b = np.array(new_raw)\n",
    "b"
   ]
  },
  {
   "cell_type": "code",
   "execution_count": 9,
   "metadata": {},
   "outputs": [
    {
     "data": {
      "text/plain": [
       "array([[1., 1., 1., 1., 1.],\n",
       "       [1., 1., 1., 1., 1.],\n",
       "       [1., 1., 1., 1., 1.],\n",
       "       [1., 1., 1., 1., 1.]])"
      ]
     },
     "execution_count": 9,
     "metadata": {},
     "output_type": "execute_result"
    }
   ],
   "source": [
    "d = (4,5)\n",
    "np.zeros(d)\n",
    "np.ones(d)\n"
   ]
  },
  {
   "cell_type": "code",
   "execution_count": 20,
   "metadata": {},
   "outputs": [
    {
     "name": "stdout",
     "output_type": "stream",
     "text": [
      "[[ 2  5  8]\n",
      " [11 14 17]\n",
      " [20 23 26]\n",
      " [29 32 35]\n",
      " [38 41 44]]\n"
     ]
    }
   ],
   "source": [
    "b = np.matrix('1.0 2.0 ; 3.0 4.0')\n",
    "b\n",
    "a = np.arange(2,45,3).reshape(5,3)\n",
    "a\n",
    "np.count_nonzero(a)\n",
    "a = np.mat(a)\n",
    "print(a)"
   ]
  },
  {
   "cell_type": "code",
   "execution_count": 21,
   "metadata": {},
   "outputs": [
    {
     "data": {
      "text/plain": [
       "array([0.        , 0.27272727, 0.54545455, 0.81818182, 1.09090909,\n",
       "       1.36363636, 1.63636364, 1.90909091, 2.18181818, 2.45454545,\n",
       "       2.72727273, 3.        ])"
      ]
     },
     "execution_count": 21,
     "metadata": {},
     "output_type": "execute_result"
    }
   ],
   "source": [
    "np.linspace(0,3,12)"
   ]
  },
  {
   "cell_type": "code",
   "execution_count": 23,
   "metadata": {},
   "outputs": [
    {
     "data": {
      "text/plain": [
       "array([      0,       2,       4, ..., 1999994, 1999996, 1999998])"
      ]
     },
     "execution_count": 23,
     "metadata": {},
     "output_type": "execute_result"
    }
   ],
   "source": [
    "my_arr = np.arange(1000000)\n",
    "my_arr2 = my_arr*2\n",
    "my_arr2"
   ]
  },
  {
   "cell_type": "code",
   "execution_count": 43,
   "metadata": {},
   "outputs": [
    {
     "data": {
      "text/plain": [
       "array([ 6., 15.])"
      ]
     },
     "execution_count": 43,
     "metadata": {},
     "output_type": "execute_result"
    }
   ],
   "source": [
    "x = np.array([[1.,2.,3.],[4.,5.,6.]])\n",
    "mat1 = np.ones(3)\n",
    "mat1\n",
    "mat2 = np.dot(x, mat1)\n",
    "mat2"
   ]
  },
  {
   "cell_type": "markdown",
   "metadata": {},
   "source": [
    "Numpy - Meshgrid"
   ]
  },
  {
   "cell_type": "code",
   "execution_count": 30,
   "metadata": {},
   "outputs": [
    {
     "data": {
      "text/plain": [
       "Text(0.5, 1.0, 'image plot of $\\\\sqrt{x^2+y^2}$')"
      ]
     },
     "execution_count": 30,
     "metadata": {},
     "output_type": "execute_result"
    },
    {
     "data": {
      "image/png": "[encoded data removed]",
      "text/plain": [
       "<Figure size 432x288 with 2 Axes>"
      ]
     },
     "metadata": {
      "needs_background": "light"
     },
     "output_type": "display_data"
    }
   ],
   "source": [
    "import matplotlib.pyplot as plt\n",
    "\n",
    "points = np.arange(-5,5,0.01)\n",
    "xx, yy = np.meshgrid(points, points)\n",
    "yy\n",
    "\n",
    "z = np.sqrt(xx ** 2 + yy ** 2 )\n",
    "\n",
    "plt.imshow(z, cmap = plt.cm.gray);plt.colorbar()\n",
    "plt.title(\"image plot of $\\sqrt{x^2+y^2}$\")"
   ]
  },
  {
   "cell_type": "markdown",
   "metadata": {},
   "source": [
    "Simulate random walk model"
   ]
  },
  {
   "cell_type": "code",
   "execution_count": 64,
   "metadata": {},
   "outputs": [
    {
     "data": {
      "text/plain": [
       "[<matplotlib.lines.Line2D at 0x163cb6ec0>]"
      ]
     },
     "execution_count": 64,
     "metadata": {},
     "output_type": "execute_result"
    },
    {
     "data": {
      "image/png": "[encoded data removed]",
      "text/plain": [
       "<Figure size 432x288 with 1 Axes>"
      ]
     },
     "metadata": {
      "needs_background": "light"
     },
     "output_type": "display_data"
    }
   ],
   "source": [
    "import random\n",
    "position = 0 ## initial position\n",
    "walk = [position]\n",
    "steps = 1000\n",
    "for i in range(steps):\n",
    "    if random.randint(0,1) > 0:\n",
    "        step = 1\n",
    "    else:\n",
    "        step = -1\n",
    "    position += step\n",
    "    walk.append(position)\n",
    "plt.plot(walk[:100])"
   ]
  },
  {
   "cell_type": "markdown",
   "metadata": {},
   "source": [
    "Scipy"
   ]
  },
  {
   "cell_type": "code",
   "execution_count": 2,
   "metadata": {},
   "outputs": [],
   "source": [
    "import numpy as np\n",
    "import scipy.stats as stats\n",
    "import scipy.optimize as opt"
   ]
  },
  {
   "cell_type": "markdown",
   "metadata": {},
   "source": [
    "Statistic in Scipy"
   ]
  },
  {
   "cell_type": "code",
   "execution_count": 4,
   "metadata": {},
   "outputs": [
    {
     "data": {
      "text/plain": [
       "array([0.44442918, 0.7356051 , 0.75812527, 0.69797612, 0.79920693,\n",
       "       0.71223652, 0.40682605, 0.47024731, 0.75715993, 0.98372335])"
      ]
     },
     "execution_count": 4,
     "metadata": {},
     "output_type": "execute_result"
    }
   ],
   "source": [
    "rv_unif = stats.uniform.rvs(size=10)\n",
    "rv_unif\n",
    "rv_beta = stats.beta.rvs(size=10, a=2, b=1)\n",
    "rv_beta"
   ]
  },
  {
   "cell_type": "code",
   "execution_count": 21,
   "metadata": {},
   "outputs": [
    {
     "name": "stdout",
     "output_type": "stream",
     "text": [
      "mean=-0.02923940935351014\n",
      "median=0.08950547795827979\n",
      "std=0.9716301153655507\n",
      "upper=1.875155616762969 and lower=-1.9336344354699895\n"
     ]
    }
   ],
   "source": [
    "from numpy import double\n",
    "\n",
    "\n",
    "n = 200\n",
    "dat = stats.norm.rvs(size = n, loc = 0, scale = 1)\n",
    "print(f\"mean=\"+str(np.mean(dat)))\n",
    "print(f\"median=\"+str(np.median(dat)))\n",
    "print(f\"std=\"+str(np.std(dat)))\n",
    "mu = np.mean(dat)\n",
    "sigma = np.std(dat)\n",
    "upper = mu+1.96*sigma\n",
    "lower = mu-1.96*sigma\n",
    "print(f\"upper=%s and lower=%s\" % (upper,lower))\n"
   ]
  },
  {
   "cell_type": "markdown",
   "metadata": {},
   "source": [
    "CDF and pdf"
   ]
  },
  {
   "cell_type": "code",
   "execution_count": 25,
   "metadata": {},
   "outputs": [
    {
     "name": "stdout",
     "output_type": "stream",
     "text": [
      "quantiles of 2,4,5: [0.59399415 0.90842181 0.95957232]\n",
      "value of 25%, 50%, and 75%: [0.1947002  0.30326533 0.35427491]\n"
     ]
    }
   ],
   "source": [
    "gamma_dist = stats.gamma(a=2)\n",
    "print(f\"quantiles of 2,4,5:\" ,gamma_dist.cdf([2,4,5]))\n",
    "print(f\"value of 25%, 50%, and 75%:\" ,gamma_dist.pdf([0.25,0.5,0.75]))"
   ]
  },
  {
   "cell_type": "markdown",
   "metadata": {},
   "source": [
    "Get MLE mean and standard deviation (For statistical machine learning)"
   ]
  },
  {
   "cell_type": "code",
   "execution_count": 26,
   "metadata": {},
   "outputs": [
    {
     "name": "stdout",
     "output_type": "stream",
     "text": [
      "MLE of data mean:0.09963185257608362\n",
      "MLE of data std:1.0223837049870004\n"
     ]
    }
   ],
   "source": [
    "normal_dist = stats.norm(loc = 0, scale = 1)\n",
    "dat = normal_dist.rvs(size = 100)\n",
    "mu, sigma = stats.norm.fit(dat)\n",
    "print(f\"MLE of data mean:\" +str(mu))\n",
    "print(f\"MLE of data std:\" +str(sigma))"
   ]
  }
 ],
 "metadata": {
  "kernelspec": {
   "display_name": "Python 3.10.4 64-bit",
   "language": "python",
   "name": "python3"
  },
  "language_info": {
   "codemirror_mode": {
    "name": "ipython",
    "version": 3
   },
   "file_extension": ".py",
   "mimetype": "text/x-python",
   "name": "python",
   "nbconvert_exporter": "python",
   "pygments_lexer": "ipython3",
   "version": "3.10.4"
  },
  "orig_nbformat": 4,
  "vscode": {
   "interpreter": {
    "hash": "aee8b7b246df8f9039afb4144a1f6fd8d2ca17a180786b69acc140d282b71a49"
   }
  }
 },
 "nbformat": 4,
 "nbformat_minor": 2
}
