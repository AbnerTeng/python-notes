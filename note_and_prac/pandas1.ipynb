{
 "cells": [
  {
   "cell_type": "markdown",
   "metadata": {},
   "source": [
    "Pandas -- from python data analysis"
   ]
  },
  {
   "cell_type": "code",
   "execution_count": 3,
   "metadata": {},
   "outputs": [
    {
     "name": "stdout",
     "output_type": "stream",
     "text": [
      "Ohio      35000\n",
      "Texas     71000\n",
      "Oregon    16000\n",
      "Utah       5000\n",
      "dtype: int64\n",
      "California        NaN\n",
      "Ohio          35000.0\n",
      "Oregon        16000.0\n",
      "Texas         71000.0\n",
      "dtype: float64\n"
     ]
    }
   ],
   "source": [
    "import pandas as pd\n",
    "from pandas import Series, DataFrame\n",
    " \n",
    "## dict to pd.Series\n",
    "sdata = {'Ohio':35000, 'Texas':71000, 'Oregon': 16000, 'Utah':5000}\n",
    "series = pd.Series(sdata)\n",
    "print(series)\n",
    "\n",
    "## we can search by states\n",
    "states = ['California', 'Ohio', 'Oregon', 'Texas']\n",
    "series2 = pd.Series(sdata, states)\n",
    "print(series2)"
   ]
  },
  {
   "cell_type": "code",
   "execution_count": 4,
   "metadata": {},
   "outputs": [
    {
     "name": "stdout",
     "output_type": "stream",
     "text": [
      "    state  year  pop\n",
      "0    Ohio  2000  1.5\n",
      "1    Ohio  2001  1.7\n",
      "2    Ohio  2002  3.6\n",
      "3  Nevada  2001  2.4\n",
      "4  Nevada  2002  2.9\n",
      "5  Nevada  2003  3.2\n"
     ]
    }
   ],
   "source": [
    "## setting up DataFrame\n",
    "data = {'state': ['Ohio', 'Ohio', 'Ohio', 'Nevada', 'Nevada', 'Nevada'],\n",
    "        'year': [2000, 2001, 2002, 2001, 2002, 2003],\n",
    "        'pop': [1.5, 1.7, 3.6, 2.4, 2.9, 3.2]}\n",
    "frame = pd.DataFrame(data)\n",
    "print(frame)"
   ]
  },
  {
   "cell_type": "code",
   "execution_count": 5,
   "metadata": {},
   "outputs": [
    {
     "name": "stdout",
     "output_type": "stream",
     "text": [
      "index\n",
      "0      blue\n",
      "2    purple\n",
      "4    yellow\n",
      "dtype: object\n",
      "index\n",
      "0      blue\n",
      "1      blue\n",
      "2    purple\n",
      "3    purple\n",
      "4    yellow\n",
      "5    yellow\n",
      "dtype: object\n"
     ]
    }
   ],
   "source": [
    "## import functions\n",
    "data2 = pd.Series(['blue', 'purple', 'yellow'], index = [0,2,4])\n",
    "data2.index.name = 'index'\n",
    "print(data2)\n",
    "data2new = data2.reindex(range(6), method = 'ffill')\n",
    "print(data2new)"
   ]
  },
  {
   "cell_type": "code",
   "execution_count": 6,
   "metadata": {},
   "outputs": [
    {
     "name": "stdout",
     "output_type": "stream",
     "text": [
      "   Ohio  Texas  California\n",
      "a     0      1           2\n",
      "c     3      4           5\n",
      "d     6      7           8\n",
      "   Ohio  Texas  California\n",
      "a   0.0    1.0         2.0\n",
      "b   NaN    NaN         NaN\n",
      "c   3.0    4.0         5.0\n",
      "d   6.0    7.0         8.0\n",
      "   Texas  Utah  California\n",
      "a      1   NaN           2\n",
      "c      4   NaN           5\n",
      "d      7   NaN           8\n"
     ]
    }
   ],
   "source": [
    "## set a DataFrame\n",
    "import numpy as np\n",
    "frame = pd.DataFrame(np.arange(9).reshape((3,3)), index = ['a', 'c', 'd'], columns = ['Ohio', 'Texas', 'California'])\n",
    "print(frame)\n",
    "\n",
    "## data reshape\n",
    "frame1 = frame.reindex(['a', 'b', 'c', 'd'])\n",
    "print(frame1)\n",
    "states = ['Texas', 'Utah', 'California']\n",
    "frame2 = frame.reindex(columns = states)\n",
    "print(frame2)\n"
   ]
  },
  {
   "cell_type": "code",
   "execution_count": 7,
   "metadata": {},
   "outputs": [
    {
     "name": "stdout",
     "output_type": "stream",
     "text": [
      "Use loc \n",
      "    Ohio  Texas  California\n",
      "a     0      1           2\n",
      "c     3      4           5\n",
      "Use iloc \n",
      "    Ohio  Texas  California\n",
      "a     0      1           2\n",
      "c     3      4           5\n"
     ]
    }
   ],
   "source": [
    "## same result using loc and iloc\n",
    "print(f'Use loc \\n', frame.loc[['a', 'c']])\n",
    "print(f'Use iloc \\n', frame.iloc[[0,1]])"
   ]
  },
  {
   "cell_type": "markdown",
   "metadata": {},
   "source": [
    "Calculate between Series and DataFrame\n"
   ]
  },
  {
   "cell_type": "code",
   "execution_count": 8,
   "metadata": {},
   "outputs": [
    {
     "name": "stdout",
     "output_type": "stream",
     "text": [
      "[[ 0.  1.  2.  3.]\n",
      " [ 4.  5.  6.  7.]\n",
      " [ 8.  9. 10. 11.]]\n",
      "[0. 1. 2. 3.]\n",
      "[[0. 0. 0. 0.]\n",
      " [4. 4. 4. 4.]\n",
      " [8. 8. 8. 8.]]\n"
     ]
    }
   ],
   "source": [
    "arr = np.arange(12.).reshape([3,4])\n",
    "print(arr)\n",
    "print(arr[0])\n",
    "print(arr-arr[0])  ## broadcasting"
   ]
  },
  {
   "cell_type": "code",
   "execution_count": 9,
   "metadata": {},
   "outputs": [
    {
     "name": "stdout",
     "output_type": "stream",
     "text": [
      "frame:\n",
      "           b     d     e\n",
      "Utah    0.0   1.0   2.0\n",
      "Ohio    3.0   4.0   5.0\n",
      "Texas   6.0   7.0   8.0\n",
      "Oregon  9.0  10.0  11.0\n",
      "series:\n",
      " b    0.0\n",
      "d    1.0\n",
      "e    2.0\n",
      "Name: Utah, dtype: float64\n",
      "minus:\n",
      "           b    d    e\n",
      "Utah    0.0  0.0  0.0\n",
      "Ohio    3.0  3.0  3.0\n",
      "Texas   6.0  6.0  6.0\n",
      "Oregon  9.0  9.0  9.0\n"
     ]
    }
   ],
   "source": [
    "frame = pd.DataFrame(np.arange(12.).reshape([4,3]), columns = list('bde'), index = ['Utah', 'Ohio', 'Texas', 'Oregon'])\n",
    "print(f'frame:\\n', frame)\n",
    "series = frame.loc['Utah']\n",
    "print(f'series:\\n', series)\n",
    "print(f'minus:\\n', frame - series) ## solution is same as above."
   ]
  },
  {
   "cell_type": "markdown",
   "metadata": {},
   "source": [
    "Apply in DataFrame\n"
   ]
  },
  {
   "cell_type": "code",
   "execution_count": 10,
   "metadata": {},
   "outputs": [
    {
     "name": "stdout",
     "output_type": "stream",
     "text": [
      "frame2:\n",
      "                a         b         c\n",
      "Utah    1.229506  1.336899  1.755845\n",
      "Ohio    1.099168 -0.239368  1.228524\n",
      "Texas  -0.275849  0.039735  0.204034\n",
      "Oregon -0.078148 -0.554657  0.012077\n",
      "abs of frame2:\n",
      "                a         b         c\n",
      "Utah    1.229506  1.336899  1.755845\n",
      "Ohio    1.099168  0.239368  1.228524\n",
      "Texas   0.275849  0.039735  0.204034\n",
      "Oregon  0.078148  0.554657  0.012077\n",
      "apply of rows\n",
      " a    1.151358\n",
      "b    1.297164\n",
      "c    1.743768\n",
      "dtype: float64\n",
      "apply of columns\n",
      " Utah      0.526339\n",
      "Ohio      0.989156\n",
      "Texas     0.236114\n",
      "Oregon    0.542580\n",
      "dtype: float64\n",
      "applymap\n",
      "             a      b     c\n",
      "Utah     1.23   1.34  1.76\n",
      "Ohio     1.10  -0.24  1.23\n",
      "Texas   -0.28   0.04  0.20\n",
      "Oregon  -0.08  -0.55  0.01\n"
     ]
    }
   ],
   "source": [
    "frame2 = pd.DataFrame(np.random.randn(4, 3), columns = list('abc'), index = ['Utah', 'Ohio', 'Texas', 'Oregon'])\n",
    "print(f'frame2:\\n', frame2)\n",
    "abs_frame2 = np.abs(frame2)\n",
    "print(f'abs of frame2:\\n', abs_frame2)\n",
    "\n",
    "## starting using apply\n",
    "f = lambda x: x.max()-x.min() \n",
    "print(f'apply of rows\\n', abs_frame2.apply(f))\n",
    "print(f'apply of columns\\n', abs_frame2.apply(f, axis = 'columns'))\n",
    "\n",
    "## starting using applymap\n",
    "format = lambda x: '%.2f' % x ## 四捨五入到小數點第二位\n",
    "print(f'applymap\\n', frame2.applymap(format))"
   ]
  },
  {
   "cell_type": "markdown",
   "metadata": {},
   "source": [
    "Sort of DataFrame\n"
   ]
  },
  {
   "cell_type": "code",
   "execution_count": 11,
   "metadata": {},
   "outputs": [
    {
     "name": "stdout",
     "output_type": "stream",
     "text": [
      "sort of object: \n",
      " a    1\n",
      "b    3\n",
      "c    2\n",
      "d    0\n",
      "dtype: int64\n",
      "     d  a  b  c   e   f\n",
      "one  6  7  8  9  10  11\n",
      "two  0  1  2  3   4   5\n",
      "     a  b  c  d   e   f\n",
      "two  1  2  3  0   4   5\n",
      "one  7  8  9  6  10  11\n",
      "     d  a  b  c   e   f\n",
      "one  6  7  8  9  10  11\n",
      "two  0  1  2  3   4   5\n",
      "      f   e  d  c  b  a\n",
      "two   5   4  0  3  2  1\n",
      "one  11  10  6  9  8  7\n"
     ]
    }
   ],
   "source": [
    "object = pd.Series(range(4), index = ['d', 'a', 'c', 'b'])\n",
    "print(f'sort of object: \\n', object.sort_index())\n",
    "\n",
    "## 沿特定軸排序\n",
    "frame3 = pd.DataFrame(np.arange(12).reshape([2,6]), index = ['two', 'one'], columns = ['d', 'a', 'b', 'c', 'e', 'f'])\n",
    "print(frame3.sort_index())\n",
    "print(frame3.sort_index(axis = 1)) ## axis: 0 for 'rows', 1 for 'columns'\n",
    "print(frame3.sort_index(axis = 0))\n",
    "print(frame3.sort_index(axis = 1, ascending = False))"
   ]
  },
  {
   "cell_type": "markdown",
   "metadata": {},
   "source": [
    "repeated categories on index\n"
   ]
  },
  {
   "cell_type": "code",
   "execution_count": 12,
   "metadata": {},
   "outputs": [
    {
     "name": "stdout",
     "output_type": "stream",
     "text": [
      "a    0\n",
      "a    1\n",
      "b    2\n",
      "b    3\n",
      "c    4\n",
      "dtype: int64\n"
     ]
    },
    {
     "data": {
      "text/plain": [
       "False"
      ]
     },
     "execution_count": 12,
     "metadata": {},
     "output_type": "execute_result"
    }
   ],
   "source": [
    "obj = pd.Series(range(5), index = ['a', 'a', 'b', 'b', 'c'])\n",
    "print(obj)\n",
    "\n",
    "## is index unique or not\n",
    "obj.index.is_unique"
   ]
  },
  {
   "cell_type": "markdown",
   "metadata": {},
   "source": [
    "Reduction or summary statistics"
   ]
  },
  {
   "cell_type": "code",
   "execution_count": 13,
   "metadata": {},
   "outputs": [
    {
     "name": "stdout",
     "output_type": "stream",
     "text": [
      "    one  two\n",
      "a  1.40  NaN\n",
      "b  7.10 -4.5\n",
      "c   NaN  NaN\n",
      "d  0.75 -1.3\n",
      "sum of column\n",
      " one    9.25\n",
      "two   -5.80\n",
      "dtype: float64\n",
      "sum of rows\n",
      " a    1.40\n",
      "b    2.60\n",
      "c    0.00\n",
      "d   -0.55\n",
      "dtype: float64\n",
      "which index as the max value\n",
      " one    b\n",
      "two    d\n",
      "dtype: object\n",
      "cumulative summary\n",
      "     one  two\n",
      "a  1.40  NaN\n",
      "b  8.50 -4.5\n",
      "c   NaN  NaN\n",
      "d  9.25 -5.8\n",
      "lots of values\n",
      "             one       two\n",
      "count  3.000000  2.000000\n",
      "mean   3.083333 -2.900000\n",
      "std    3.493685  2.262742\n",
      "min    0.750000 -4.500000\n",
      "25%    1.075000 -3.700000\n",
      "50%    1.400000 -2.900000\n",
      "75%    4.250000 -2.100000\n",
      "max    7.100000 -1.300000\n"
     ]
    }
   ],
   "source": [
    "df = pd.DataFrame([[1.4, np.nan], [7.1, -4.5],\n",
    "                   [np.nan, np.nan], [0.75, -1.3]],\n",
    "                   index = ['a', 'b', 'c', 'd'],\n",
    "                   columns = ['one', 'two'])\n",
    "print(df)\n",
    "print(f'sum of column\\n', df.sum())\n",
    "print(f'sum of rows\\n', df.sum(axis = 1))\n",
    "print(f'which index as the max value\\n', df.idxmax())\n",
    "print(f'cumulative summary\\n', df.cumsum())\n",
    "print(f'lots of values\\n', df.describe())"
   ]
  },
  {
   "cell_type": "markdown",
   "metadata": {},
   "source": [
    "Correlation coefficients and covariance"
   ]
  },
  {
   "cell_type": "code",
   "execution_count": 18,
   "metadata": {},
   "outputs": [
    {
     "name": "stdout",
     "output_type": "stream",
     "text": [
      "corr of returns\n",
      " 0.7842635031043915\n",
      "cov of returns\n",
      " 0.00026757445119193274\n"
     ]
    }
   ],
   "source": [
    "import pandas_datareader.data as web\n",
    "\n",
    "all_data ={ticker: web.get_data_yahoo(ticker)\n",
    "            for ticker in ['AAPL', 'IBM', 'MSFT', 'GOOG']}\n",
    "price = pd.DataFrame({ticker: data['Adj Close'] for ticker, data in all_data.items()})\n",
    "volume = pd.DataFrame({ticker: data['Volume'] for ticker, data in all_data.items()})\n",
    "\n",
    "## calculate the price change\n",
    "returns = price.pct_change()\n",
    "returns.tail()\n",
    "\n",
    "## calculate corr\n",
    "print(f'corr of returns\\n', returns['MSFT'].corr(returns['GOOG']))\n",
    "print(f'cov of returns\\n', returns['MSFT'].cov(returns['GOOG']))"
   ]
  },
  {
   "cell_type": "markdown",
   "metadata": {},
   "source": [
    "Pandas -- read data from yahoo finance"
   ]
  },
  {
   "cell_type": "code",
   "execution_count": 23,
   "metadata": {},
   "outputs": [
    {
     "name": "stdout",
     "output_type": "stream",
     "text": [
      "head of data\n",
      "                  High        Low       Open      Close       Volume  Adj Close\n",
      "Date                                                                          \n",
      "2017-01-03  29.082500  28.690001  28.950001  29.037500  115127600.0  27.257643\n",
      "2017-01-04  29.127501  28.937500  28.962500  29.004999   84472400.0  27.227133\n",
      "2017-01-05  29.215000  28.952499  28.980000  29.152500   88774400.0  27.365591\n",
      "2017-01-06  29.540001  29.117500  29.195000  29.477501  127007600.0  27.670673\n",
      "2017-01-09  29.857500  29.485001  29.487499  29.747499  134247600.0  27.924128\n",
      "tail of data\n",
      "                   High         Low        Open       Close      Volume  \\\n",
      "Date                                                                     \n",
      "2022-06-27  143.490005  140.970001  142.699997  141.660004  70207900.0   \n",
      "2022-06-28  143.419998  137.320007  142.130005  137.440002  67083400.0   \n",
      "2022-06-29  140.669998  136.669998  137.460007  139.229996  66242400.0   \n",
      "2022-06-30  138.369995  133.770004  137.250000  136.720001  98964500.0   \n",
      "2022-07-01  139.039993  135.660004  136.039993  138.929993  71007500.0   \n",
      "\n",
      "             Adj Close  \n",
      "Date                    \n",
      "2022-06-27  141.660004  \n",
      "2022-06-28  137.440002  \n",
      "2022-06-29  139.229996  \n",
      "2022-06-30  136.720001  \n",
      "2022-07-01  138.929993  \n"
     ]
    }
   ],
   "source": [
    "import pandas_datareader.data as web\n",
    "import datetime as dt\n",
    "start = dt.datetime(2017, 1, 1)\n",
    "end = dt.datetime(2022, 7, 1)\n",
    "\n",
    "## start loading data\n",
    "df = web.DataReader('AAPL', 'yahoo', start, end)\n",
    "print(f'head of data\\n', df.head())\n",
    "print(f'tail of data\\n', df.tail())\n",
    "\n",
    "## Generalized code\n",
    "## start = dt.datetime(start date)\n",
    "## end = dt.datetime(end date)\n",
    "## df = web.DataReader('stockname', 'yahoo', start, end)"
   ]
  },
  {
   "cell_type": "markdown",
   "metadata": {},
   "source": []
  }
 ],
 "metadata": {
  "kernelspec": {
   "display_name": "Python 3.8.13 ('base')",
   "language": "python",
   "name": "python3"
  },
  "language_info": {
   "codemirror_mode": {
    "name": "ipython",
    "version": 3
   },
   "file_extension": ".py",
   "mimetype": "text/x-python",
   "name": "python",
   "nbconvert_exporter": "python",
   "pygments_lexer": "ipython3",
   "version": "3.8.13"
  },
  "orig_nbformat": 4,
  "vscode": {
   "interpreter": {
    "hash": "13664d053be658e830fa1e4f5af94bfd0cdc5832a7d524caa5b55071b6c200e2"
   }
  }
 },
 "nbformat": 4,
 "nbformat_minor": 2
}
