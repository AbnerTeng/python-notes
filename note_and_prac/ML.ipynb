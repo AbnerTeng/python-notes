{
 "cells": [
  {
   "cell_type": "markdown",
   "metadata": {},
   "source": [
    "Gradient Descent\n",
    "    define variables"
   ]
  },
  {
   "cell_type": "code",
   "execution_count": 2,
   "metadata": {},
   "outputs": [],
   "source": [
    "from typing import List\n",
    "Vector = List[float]\n",
    "def dot(v: Vector, w: Vector) -> float:\n",
    "    assert len(v) == len(w)\n",
    "    return sum(v_i * w_i for v_i, w_i in zip(v, w))\n",
    "\n",
    "def sum_of_square(v: Vector) -> float:\n",
    "    return dot(v, v)"
   ]
  },
  {
   "cell_type": "markdown",
   "metadata": {},
   "source": [
    "Differentiate"
   ]
  },
  {
   "cell_type": "code",
   "execution_count": 3,
   "metadata": {},
   "outputs": [],
   "source": [
    "from typing import Callable\n",
    "def difference_quotient(f: Callable[[float], float], x: float, h: float) -> float:\n",
    "    return (f(x + h) - f(x)) / h"
   ]
  },
  {
   "cell_type": "markdown",
   "metadata": {},
   "source": [
    "Calculate the solution of differentiate"
   ]
  },
  {
   "cell_type": "code",
   "execution_count": 4,
   "metadata": {},
   "outputs": [
    {
     "data": {
      "image/png": "[encoded data removed]",
      "text/plain": [
       "<Figure size 432x288 with 1 Axes>"
      ]
     },
     "metadata": {
      "needs_background": "light"
     },
     "output_type": "display_data"
    }
   ],
   "source": [
    "def square(x: float) -> float:\n",
    "    return x * x\n",
    "def derivative(x: float) -> float:\n",
    "    return 2 * x\n",
    "\n",
    "xs = range(-10, 11)\n",
    "actuals = [derivative(x) for x in xs]\n",
    "estimates = [difference_quotient(square, x, h = 0.001) for x in xs]\n",
    "\n",
    "import matplotlib.pyplot as plt\n",
    "plt.title('Actual v.s. estimate')\n",
    "plt.plot(xs, actuals, 'rx', label = 'Actual')\n",
    "plt.plot(xs, estimates, 'b+', label = 'Estimates')\n",
    "plt.legend(loc = 9)\n",
    "plt.show()\n",
    "\n",
    "\n"
   ]
  },
  {
   "cell_type": "code",
   "execution_count": 5,
   "metadata": {},
   "outputs": [],
   "source": [
    "def partial_difference_quotient(f: Callable[[Vector], float], v: Vector, i: int, h: float) -> float:\n",
    "    w = [v_j + (h if j == i else 0) for j, v_j in enumerate(v)]\n",
    "    return (f(w) - f(v)) / h\n",
    "\n",
    "def estimate_gradient(f: Callable[[Vector], float], v: Vector, h: float = 0.0001):\n",
    "    return [partial_difference_quotient(f, v, i, h) for i in range(len(v))]\n"
   ]
  },
  {
   "cell_type": "markdown",
   "metadata": {},
   "source": [
    "Working with data"
   ]
  },
  {
   "cell_type": "code",
   "execution_count": 6,
   "metadata": {},
   "outputs": [
    {
     "name": "stdout",
     "output_type": "stream",
     "text": [
      "uniform\n",
      " None\n",
      "normal\n",
      " None\n"
     ]
    },
    {
     "data": {
      "image/png": "[encoded data removed]",
      "text/plain": [
       "<Figure size 432x288 with 1 Axes>"
      ]
     },
     "metadata": {
      "needs_background": "light"
     },
     "output_type": "display_data"
    }
   ],
   "source": [
    "from typing import List, Dict\n",
    "from collections import Counter\n",
    "import math\n",
    "import matplotlib.pyplot as plt\n",
    "\n",
    "def bucketize(point: float, bucket_size: float) -> float:\n",
    "    return bucket_size * math.floor(point / bucket_size) ## floor denotes to 無條件捨去 ## 以floor 的方式取整數，以作為 bucket size 的倍數\n",
    "\n",
    "def make_histogram(points: List[float], bucket_size: float) -> Dict[float, int]:\n",
    "    return Counter(bucketize(point, bucket_size) for point in points) ## 針對資料點進行分組，並計算每個分組有幾個資料點\n",
    "\n",
    "def plot_histogram(points: List[float], bucket_size: float, title: str = \"\"):\n",
    "    histogram = make_histogram(points, bucket_size)\n",
    "    plt.bar(histogram.keys(), histogram.values(), width = bucket_size)\n",
    "    plt.title(title)\n",
    "\n",
    "## Loading data\n",
    "import random\n",
    "import numpy as np\n",
    "random.seed(0)\n",
    "\n",
    "uniform = [200 * random.random() - 100 for _ in range(10000)]\n",
    "normal = [57 * np.random.randn() for _ in range(10000)]\n",
    "print(f'uniform\\n', plot_histogram(uniform, 10, 'Unifrom dist.'))\n",
    "print(f'normal\\n', plot_histogram(normal, 10, 'Normal dist.'))"
   ]
  },
  {
   "cell_type": "markdown",
   "metadata": {},
   "source": [
    "tqdm"
   ]
  },
  {
   "cell_type": "code",
   "execution_count": 7,
   "metadata": {},
   "outputs": [
    {
     "name": "stderr",
     "output_type": "stream",
     "text": [
      "100%|██████████| 100/100 [00:04<00:00, 24.41it/s]\n"
     ]
    }
   ],
   "source": [
    "import tqdm\n",
    "for i in tqdm.tqdm(range(100)):\n",
    "    _ = [random.random for i in range(1000000)]"
   ]
  },
  {
   "cell_type": "markdown",
   "metadata": {},
   "source": [
    "Splitting data"
   ]
  },
  {
   "cell_type": "code",
   "execution_count": 10,
   "metadata": {},
   "outputs": [
    {
     "name": "stdout",
     "output_type": "stream",
     "text": [
      "numbers of train data\n",
      " 800\n",
      "number of test data\n",
      " 200\n",
      "numbers of train data\n",
      " 800 800\n",
      "number of test data\n",
      " 200 200\n"
     ]
    }
   ],
   "source": [
    "import random\n",
    "from typing import TypeVar, List, Tuple\n",
    "X = TypeVar('X') ## 以通用型別表示資料點\n",
    "\n",
    "def split_data(data: List[X], prob: float) -> Tuple[List[X], List[X]]: ## split_data 這個 function 中有兩個參數，data and prob\n",
    "    data = data[:] ## copy a data\n",
    "    random.shuffle(data) ## shuffle 會打亂資料，我們需要隨機\n",
    "    cut = int(len(data) * prob) ## 用 prob 算出切分點\n",
    "    return (data[:cut], data[cut:])\n",
    "\n",
    "data = [n for n in range(1000)]\n",
    "train, test = split_data(data, 0.8)\n",
    "\n",
    "print(f'numbers of train data\\n', len(train))\n",
    "print(f'number of test data\\n', len(test))\n",
    "\n",
    "Y = TypeVar('Y') ## 以通用型別表示“輸出變數”\n",
    "def train_test_split(xs: List[X], ys: List[Y], test_pct: float) -> Tuple[List[X], List[X], List[Y], List[Y]]: ## we have three variabels in train_test_split\n",
    "    idxs = [i for i in range(len(xs))]\n",
    "    train_idxs, test_idxs = split_data(idxs, 1- test_pct) ## split data\n",
    "\n",
    "    return ([xs[i] for i in train_idxs], [xs[i] for i in test_idxs], [ys[i] for i in train_idxs], [ys[i] for i in test_idxs])\n",
    "\n",
    "xs = [x for x in range(1000)]\n",
    "ys = [2 * x for x in xs]\n",
    "x_train, x_test, y_train, y_test = train_test_split(xs, ys, 0.2)\n",
    "\n",
    "print(f'numbers of train data\\n', len(x_train), len(y_train))\n",
    "print(f'number of test data\\n', len(x_test), len(y_test))"
   ]
  }
 ],
 "metadata": {
  "kernelspec": {
   "display_name": "Python 3.8.13 ('base')",
   "language": "python",
   "name": "python3"
  },
  "language_info": {
   "codemirror_mode": {
    "name": "ipython",
    "version": 3
   },
   "file_extension": ".py",
   "mimetype": "text/x-python",
   "name": "python",
   "nbconvert_exporter": "python",
   "pygments_lexer": "ipython3",
   "version": "3.8.13"
  },
  "orig_nbformat": 4,
  "vscode": {
   "interpreter": {
    "hash": "13664d053be658e830fa1e4f5af94bfd0cdc5832a7d524caa5b55071b6c200e2"
   }
  }
 },
 "nbformat": 4,
 "nbformat_minor": 2
}
