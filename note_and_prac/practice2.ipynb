{
 "cells": [
  {
   "cell_type": "markdown",
   "metadata": {},
   "source": [
    "Class and definition"
   ]
  },
  {
   "cell_type": "code",
   "execution_count": 1,
   "metadata": {},
   "outputs": [
    {
     "name": "stdout",
     "output_type": "stream",
     "text": [
      "700\n"
     ]
    }
   ],
   "source": [
    "class account:\n",
    "    def __init__(self, number, name):\n",
    "        self.number = number\n",
    "        self.name = name\n",
    "        self.balance = 0\n",
    "    def deposit(self, amount):\n",
    "        if amount <= 0 :\n",
    "            raise ValueError(\"must be positive\")\n",
    "        self.balance+=amount\n",
    "    def withdraw(self, amount):\n",
    "        if amount <= self.balance:\n",
    "            self.balance-=amount\n",
    "        else:\n",
    "            raise ValueError(\"not enough\")\n",
    "acct1 = account('123-456', 'Justin')\n",
    "acct1.deposit(1000)\n",
    "acct1.withdraw(300)\n",
    "print(acct1.balance)\n"
   ]
  },
  {
   "cell_type": "code",
   "execution_count": 2,
   "metadata": {},
   "outputs": [
    {
     "data": {
      "text/plain": [
       "[0.5714025946899135,\n",
       " 0.4288890546751146,\n",
       " 0.5780913011344704,\n",
       " 0.20609823213950174]"
      ]
     },
     "execution_count": 2,
     "metadata": {},
     "output_type": "execute_result"
    }
   ],
   "source": [
    "import random\n",
    "random.seed(10)\n",
    "\n",
    "four_unif_randoms = [random.random() for _ in range(4)]\n",
    "four_unif_randoms\n"
   ]
  },
  {
   "cell_type": "markdown",
   "metadata": {},
   "source": [
    "Numpy"
   ]
  },
  {
   "cell_type": "code",
   "execution_count": 3,
   "metadata": {},
   "outputs": [
    {
     "name": "stdout",
     "output_type": "stream",
     "text": [
      "[[ 0  1  2  3  4]\n",
      " [ 5  6  7  8  9]\n",
      " [10 11 12 13 14]\n",
      " [15 16 17 18 19]]\n"
     ]
    },
    {
     "data": {
      "text/plain": [
       "dtype('int64')"
      ]
     },
     "execution_count": 3,
     "metadata": {},
     "output_type": "execute_result"
    }
   ],
   "source": [
    "import numpy as np\n",
    "a = np.arange(20)\n",
    "a = a.reshape(4,5)\n",
    "print(a)\n",
    "a.ndim\n",
    "a.shape\n",
    "a.size\n",
    "a.dtype"
   ]
  },
  {
   "cell_type": "code",
   "execution_count": 4,
   "metadata": {},
   "outputs": [
    {
     "data": {
      "text/plain": [
       "array([[ 1,  2,  3,  4,  5],\n",
       "       [ 6,  7,  8,  9, 10]])"
      ]
     },
     "execution_count": 4,
     "metadata": {},
     "output_type": "execute_result"
    }
   ],
   "source": [
    "raw = [1,2,3,4,5]\n",
    "a = np.array(raw)\n",
    "a\n",
    "new_raw = ([1,2,3,4,5],[6,7,8,9,10])\n",
    "b = np.array(new_raw)\n",
    "b"
   ]
  },
  {
   "cell_type": "code",
   "execution_count": 5,
   "metadata": {},
   "outputs": [
    {
     "data": {
      "text/plain": [
       "array([[1., 1., 1., 1., 1.],\n",
       "       [1., 1., 1., 1., 1.],\n",
       "       [1., 1., 1., 1., 1.],\n",
       "       [1., 1., 1., 1., 1.]])"
      ]
     },
     "execution_count": 5,
     "metadata": {},
     "output_type": "execute_result"
    }
   ],
   "source": [
    "d = (4,5)\n",
    "np.zeros(d)\n",
    "np.ones(d)\n"
   ]
  },
  {
   "cell_type": "code",
   "execution_count": 6,
   "metadata": {},
   "outputs": [
    {
     "name": "stdout",
     "output_type": "stream",
     "text": [
      "[[ 2  5  8]\n",
      " [11 14 17]\n",
      " [20 23 26]\n",
      " [29 32 35]\n",
      " [38 41 44]]\n"
     ]
    }
   ],
   "source": [
    "b = np.matrix('1.0 2.0 ; 3.0 4.0')\n",
    "b\n",
    "a = np.arange(2,45,3).reshape(5,3)\n",
    "a\n",
    "np.count_nonzero(a)\n",
    "a = np.mat(a)\n",
    "print(a)"
   ]
  },
  {
   "cell_type": "code",
   "execution_count": 7,
   "metadata": {},
   "outputs": [
    {
     "data": {
      "text/plain": [
       "array([0.        , 0.27272727, 0.54545455, 0.81818182, 1.09090909,\n",
       "       1.36363636, 1.63636364, 1.90909091, 2.18181818, 2.45454545,\n",
       "       2.72727273, 3.        ])"
      ]
     },
     "execution_count": 7,
     "metadata": {},
     "output_type": "execute_result"
    }
   ],
   "source": [
    "np.linspace(0,3,12)"
   ]
  },
  {
   "cell_type": "code",
   "execution_count": 8,
   "metadata": {},
   "outputs": [
    {
     "data": {
      "text/plain": [
       "array([      0,       2,       4, ..., 1999994, 1999996, 1999998])"
      ]
     },
     "execution_count": 8,
     "metadata": {},
     "output_type": "execute_result"
    }
   ],
   "source": [
    "my_arr = np.arange(1000000)\n",
    "my_arr2 = my_arr*2\n",
    "my_arr2"
   ]
  },
  {
   "cell_type": "code",
   "execution_count": 9,
   "metadata": {},
   "outputs": [
    {
     "data": {
      "text/plain": [
       "array([ 6., 15.])"
      ]
     },
     "execution_count": 9,
     "metadata": {},
     "output_type": "execute_result"
    }
   ],
   "source": [
    "x = np.array([[1.,2.,3.],[4.,5.,6.]])\n",
    "mat1 = np.ones(3)\n",
    "mat1\n",
    "mat2 = np.dot(x, mat1)\n",
    "mat2"
   ]
  },
  {
   "cell_type": "markdown",
   "metadata": {},
   "source": [
    "Numpy - Meshgrid"
   ]
  },
  {
   "cell_type": "code",
   "execution_count": 10,
   "metadata": {},
   "outputs": [
    {
     "data": {
      "text/plain": [
       "Text(0.5, 1.0, 'image plot of $\\\\sqrt{x^2+y^2}$')"
      ]
     },
     "execution_count": 10,
     "metadata": {},
     "output_type": "execute_result"
    },
    {
     "data": {
      "image/png": "[encoded data removed]",
      "text/plain": [
       "<Figure size 432x288 with 2 Axes>"
      ]
     },
     "metadata": {
      "needs_background": "light"
     },
     "output_type": "display_data"
    }
   ],
   "source": [
    "import matplotlib.pyplot as plt\n",
    "\n",
    "points = np.arange(-5,5,0.01)\n",
    "xx, yy = np.meshgrid(points, points)\n",
    "yy\n",
    "\n",
    "z = np.sqrt(xx ** 2 + yy ** 2 )\n",
    "\n",
    "plt.imshow(z, cmap = plt.cm.gray);plt.colorbar()\n",
    "plt.title(\"image plot of $\\sqrt{x^2+y^2}$\")"
   ]
  },
  {
   "cell_type": "markdown",
   "metadata": {},
   "source": [
    "Simulate random walk model"
   ]
  },
  {
   "cell_type": "code",
   "execution_count": 11,
   "metadata": {},
   "outputs": [
    {
     "data": {
      "text/plain": [
       "[<matplotlib.lines.Line2D at 0x11312a590>]"
      ]
     },
     "execution_count": 11,
     "metadata": {},
     "output_type": "execute_result"
    },
    {
     "data": {
      "image/png": "[encoded data removed]",
      "text/plain": [
       "<Figure size 432x288 with 1 Axes>"
      ]
     },
     "metadata": {
      "needs_background": "light"
     },
     "output_type": "display_data"
    }
   ],
   "source": [
    "import random\n",
    "position = 0 ## initial position\n",
    "walk = [position]\n",
    "steps = 1000\n",
    "for i in range(steps):\n",
    "    if random.randint(0,1) > 0:\n",
    "        step = 1\n",
    "    else:\n",
    "        step = -1\n",
    "    position += step\n",
    "    walk.append(position)\n",
    "plt.plot(walk[:100])"
   ]
  },
  {
   "cell_type": "markdown",
   "metadata": {},
   "source": [
    "Scipy"
   ]
  },
  {
   "cell_type": "code",
   "execution_count": 12,
   "metadata": {},
   "outputs": [],
   "source": [
    "import numpy as np\n",
    "import scipy.stats as stats\n",
    "import scipy.optimize as opt"
   ]
  },
  {
   "cell_type": "markdown",
   "metadata": {},
   "source": [
    "Statistic in Scipy"
   ]
  },
  {
   "cell_type": "code",
   "execution_count": 13,
   "metadata": {},
   "outputs": [
    {
     "data": {
      "text/plain": [
       "array([0.59592521, 0.62006282, 0.81250894, 0.11901514, 0.89854475,\n",
       "       0.95075234, 0.77488698, 0.68609583, 0.90886847, 0.82999527])"
      ]
     },
     "execution_count": 13,
     "metadata": {},
     "output_type": "execute_result"
    }
   ],
   "source": [
    "rv_unif = stats.uniform.rvs(size=10)\n",
    "rv_unif\n",
    "rv_beta = stats.beta.rvs(size=10, a=2, b=1)\n",
    "rv_beta"
   ]
  },
  {
   "cell_type": "code",
   "execution_count": 14,
   "metadata": {},
   "outputs": [
    {
     "name": "stdout",
     "output_type": "stream",
     "text": [
      "mean=-0.01696121984796795\n",
      "median=-0.024423700395680217\n",
      "std=0.9647677088382668\n",
      "upper=1.873983489475035 and lower=-1.907905929170971\n"
     ]
    }
   ],
   "source": [
    "from numpy import double\n",
    "\n",
    "\n",
    "n = 200\n",
    "dat = stats.norm.rvs(size = n, loc = 0, scale = 1)\n",
    "print(f\"mean=\"+str(np.mean(dat)))\n",
    "print(f\"median=\"+str(np.median(dat)))\n",
    "print(f\"std=\"+str(np.std(dat)))\n",
    "mu = np.mean(dat)\n",
    "sigma = np.std(dat)\n",
    "upper = mu+1.96*sigma\n",
    "lower = mu-1.96*sigma\n",
    "print(f\"upper=%s and lower=%s\" % (upper,lower))\n"
   ]
  },
  {
   "cell_type": "markdown",
   "metadata": {},
   "source": [
    "CDF and pdf"
   ]
  },
  {
   "cell_type": "code",
   "execution_count": 15,
   "metadata": {},
   "outputs": [
    {
     "name": "stdout",
     "output_type": "stream",
     "text": [
      "quantiles of 2,4,5: [0.59399415 0.90842181 0.95957232]\n",
      "value of 25%, 50%, and 75%: [0.1947002  0.30326533 0.35427491]\n"
     ]
    }
   ],
   "source": [
    "gamma_dist = stats.gamma(a=2)\n",
    "print(f\"quantiles of 2,4,5:\" ,gamma_dist.cdf([2,4,5]))\n",
    "print(f\"value of 25%, 50%, and 75%:\" ,gamma_dist.pdf([0.25,0.5,0.75]))"
   ]
  },
  {
   "cell_type": "markdown",
   "metadata": {},
   "source": [
    "Get MLE mean and standard deviation (For statistical machine learning)"
   ]
  },
  {
   "cell_type": "code",
   "execution_count": 16,
   "metadata": {},
   "outputs": [
    {
     "name": "stdout",
     "output_type": "stream",
     "text": [
      "MLE of data mean:-0.09309457792998467\n",
      "MLE of data std:0.9331690172696979\n"
     ]
    }
   ],
   "source": [
    "normal_dist = stats.norm(loc = 0, scale = 1)\n",
    "dat = normal_dist.rvs(size = 100)\n",
    "mu, sigma = stats.norm.fit(dat)\n",
    "print(f\"MLE of data mean:\" +str(mu))\n",
    "print(f\"MLE of data std:\" +str(sigma))"
   ]
  },
  {
   "cell_type": "markdown",
   "metadata": {},
   "source": [
    "Pandas basic part 1"
   ]
  },
  {
   "cell_type": "code",
   "execution_count": 17,
   "metadata": {},
   "outputs": [],
   "source": [
    "import pandas as pd\n",
    "pd.__version__\n",
    "import numpy as np\n",
    "from pandas import Series, DataFrame"
   ]
  },
  {
   "cell_type": "markdown",
   "metadata": {},
   "source": [
    "Series"
   ]
  },
  {
   "cell_type": "code",
   "execution_count": 18,
   "metadata": {},
   "outputs": [
    {
     "name": "stdout",
     "output_type": "stream",
     "text": [
      "[-2.24387619 -0.01225706 -0.55487474 -2.16945906  1.02636793]\n",
      "a   -2.243876\n",
      "b   -0.012257\n",
      "c   -0.554875\n",
      "d   -2.169459\n",
      "e    1.026368\n",
      "Name: My series, dtype: float64\n",
      "-2.243876191586022\n",
      "a   -2.243876\n",
      "b   -0.012257\n",
      "Name: My series, dtype: float64\n",
      "e    1.026368\n",
      "Name: My series, dtype: float64\n"
     ]
    },
    {
     "data": {
      "text/plain": [
       "a   -2.243876\n",
       "c   -0.554875\n",
       "Name: My series, dtype: float64"
      ]
     },
     "execution_count": 18,
     "metadata": {},
     "output_type": "execute_result"
    }
   ],
   "source": [
    "a = np.random.randn(5)\n",
    "print(a)\n",
    "s = pd.Series(a, index = ['a','b','c','d','e'], name = 'My series')\n",
    "print(s)\n",
    "print(s[0])\n",
    "print(s[:2])\n",
    "print(s[s>0])\n",
    "s[['a','c']]\n"
   ]
  },
  {
   "cell_type": "markdown",
   "metadata": {},
   "source": [
    "Dataframe"
   ]
  },
  {
   "cell_type": "code",
   "execution_count": 19,
   "metadata": {},
   "outputs": [
    {
     "name": "stdout",
     "output_type": "stream",
     "text": [
      "   one  two\n",
      "a  1.0  1.0\n",
      "b  2.0  2.0\n",
      "c  3.0  3.0\n",
      "d  NaN  4.0\n",
      "   one  two\n",
      "r  NaN  NaN\n",
      "d  NaN  4.0\n",
      "a  1.0  1.0\n"
     ]
    }
   ],
   "source": [
    "d = {'one': Series([1., 2., 3.], index=['a', 'b', 'c']), 'two': Series([1., 2., 3., 4.], index=['a', 'b', 'c', 'd'])}\n",
    "df = DataFrame(d)\n",
    "print(df)\n",
    "df = DataFrame(d, index=['r', 'd', 'a'], columns=['one', 'two'])\n",
    "print(df)"
   ]
  },
  {
   "cell_type": "markdown",
   "metadata": {},
   "source": [
    "Create dataframe using concat"
   ]
  },
  {
   "cell_type": "code",
   "execution_count": 20,
   "metadata": {},
   "outputs": [
    {
     "name": "stdout",
     "output_type": "stream",
     "text": [
      "   0     1\n",
      "0  0   4.0\n",
      "1  1   8.0\n",
      "2  2  12.0\n",
      "3  3  16.0\n",
      "4  4  20.0\n"
     ]
    }
   ],
   "source": [
    "a = Series(range(5))\n",
    "b = Series(np.linspace(4, 20, 5)) ## linspace denotes as: want 5 numbers in 4-20, and the diff of each number equals.\n",
    "df = pd.concat([a, b], axis=1) ## axis = 1 denotes that I want to combine by column, axis = 0 is combined by row.\n",
    "print(df)"
   ]
  },
  {
   "cell_type": "code",
   "execution_count": 21,
   "metadata": {},
   "outputs": [
    {
     "name": "stdout",
     "output_type": "stream",
     "text": [
      "         0    1    2    3    4\n",
      "alpha  0.0  0.0  0.0  0.0  0.0\n",
      "        0    1    2    3    4\n",
      "beta  1.0  2.0  3.0  4.0  5.0\n",
      "         0    1    2    3     4\n",
      "gamma  2.0  4.0  6.0  8.0  10.0\n",
      "         0    1    2     3     4\n",
      "delta  3.0  6.0  9.0  12.0  15.0\n",
      "       0    1     2     3     4\n",
      "eta  4.0  8.0  12.0  16.0  20.0\n",
      "         0    1     2     3     4\n",
      "alpha  0.0  0.0   0.0   0.0   0.0\n",
      "beta   1.0  2.0   3.0   4.0   5.0\n",
      "gamma  2.0  4.0   6.0   8.0  10.0\n",
      "delta  3.0  6.0   9.0  12.0  15.0\n",
      "eta    4.0  8.0  12.0  16.0  20.0\n",
      "<class 'pandas.core.frame.DataFrame'>\n",
      "         a    b     c     d     e\n",
      "alpha  0.0  0.0   0.0   0.0   0.0\n",
      "beta   1.0  2.0   3.0   4.0   5.0\n",
      "gamma  2.0  4.0   6.0   8.0  10.0\n",
      "delta  3.0  6.0   9.0  12.0  15.0\n",
      "eta    4.0  8.0  12.0  16.0  20.0\n"
     ]
    }
   ],
   "source": [
    "df = DataFrame()\n",
    "index = ['alpha', 'beta', 'gamma', 'delta', 'eta']\n",
    "for i in range(5):\n",
    "    a = DataFrame([np.linspace(i, 5*i, 5)], index=[index[i]]) ## 0-0, 1-5, 2-10, 3-15, 4-20\n",
    "    print(a)\n",
    "    df = pd.concat([df, a], axis=0)\n",
    "print(df)\n",
    "print(type(df))\n",
    "df.columns = ['a', 'b', 'c', 'd', 'e']\n",
    "print(df)"
   ]
  },
  {
   "cell_type": "markdown",
   "metadata": {},
   "source": [
    "Get fragment data from dataframe"
   ]
  },
  {
   "cell_type": "code",
   "execution_count": 22,
   "metadata": {},
   "outputs": [
    {
     "name": "stdout",
     "output_type": "stream",
     "text": [
      "alpha    0.0\n",
      "beta     1.0\n",
      "gamma    2.0\n",
      "delta    3.0\n",
      "eta      4.0\n",
      "Name: a, dtype: float64\n",
      "          c     d\n",
      "alpha   0.0   0.0\n",
      "beta    3.0   4.0\n",
      "gamma   6.0   8.0\n",
      "delta   9.0  12.0\n",
      "eta    12.0  16.0\n",
      "a    0.0\n",
      "b    0.0\n",
      "c    0.0\n",
      "d    0.0\n",
      "e    0.0\n",
      "Name: alpha, dtype: float64\n",
      "        a    b     c     d     e\n",
      "beta  1.0  2.0   3.0   4.0   5.0\n",
      "eta   4.0  8.0  12.0  16.0  20.0\n"
     ]
    }
   ],
   "source": [
    "print(df['a']) ## print columns\n",
    "print(df[['c','d']])\n",
    "\n",
    "print(df.loc['alpha']) ## print rows\n",
    "print(df.loc[['beta', 'eta']])"
   ]
  }
 ],
 "metadata": {
  "kernelspec": {
   "display_name": "Python 3.10.4 64-bit",
   "language": "python",
   "name": "python3"
  },
  "language_info": {
   "codemirror_mode": {
    "name": "ipython",
    "version": 3
   },
   "file_extension": ".py",
   "mimetype": "text/x-python",
   "name": "python",
   "nbconvert_exporter": "python",
   "pygments_lexer": "ipython3",
   "version": "3.10.4"
  },
  "orig_nbformat": 4,
  "vscode": {
   "interpreter": {
    "hash": "aee8b7b246df8f9039afb4144a1f6fd8d2ca17a180786b69acc140d282b71a49"
   }
  }
 },
 "nbformat": 4,
 "nbformat_minor": 2
}
